{
  "nbformat": 4,
  "nbformat_minor": 0,
  "metadata": {
    "colab": {
      "name": "Getting Started with_Python.ipynb",
      "provenance": [],
      "collapsed_sections": [],
      "toc_visible": true,
      "authorship_tag": "ABX9TyP/NzeyATBsfOYZK8H4yzyR",
      "include_colab_link": true
    },
    "kernelspec": {
      "name": "python3",
      "display_name": "Python 3"
    },
    "language_info": {
      "name": "python"
    }
  },
  "cells": [
    {
      "cell_type": "markdown",
      "metadata": {
        "id": "view-in-github",
        "colab_type": "text"
      },
      "source": [
        "<a href=\"https://colab.research.google.com/github/Savage-Yashu/Data-Science/blob/main/%5CPython%5CGetting_Started_with_Python.ipynb\" target=\"_parent\"><img src=\"https://colab.research.google.com/assets/colab-badge.svg\" alt=\"Open In Colab\"/></a>"
      ]
    },
    {
      "cell_type": "markdown",
      "source": [
        "# Variables"
      ],
      "metadata": {
        "id": "0ZtXdSva1YIx"
      }
    },
    {
      "cell_type": "markdown",
      "source": [
        "There are 5 data types\n",
        "- Integer.\n",
        "- Floating-point number.\n",
        "- Character.\n",
        "- String.\n",
        "- Boolean."
      ],
      "metadata": {
        "id": "lCC0X7a61roW"
      }
    },
    {
      "cell_type": "code",
      "source": [
        "print('Yash Sharma') #to print something directly"
      ],
      "metadata": {
        "colab": {
          "base_uri": "https://localhost:8080/"
        },
        "id": "_nEKLqWOdjlZ",
        "outputId": "a186be12-4ba8-49ce-fba5-69ed0f5cc250"
      },
      "execution_count": null,
      "outputs": [
        {
          "output_type": "stream",
          "name": "stdout",
          "text": [
            "Yash Sharma\n"
          ]
        }
      ]
    },
    {
      "cell_type": "code",
      "source": [
        "num = 10\n",
        "string = 'Yash Sharma'\n",
        "gg = 9.9\n",
        "yes = True"
      ],
      "metadata": {
        "id": "NkkcYPMwdk3N"
      },
      "execution_count": null,
      "outputs": []
    },
    {
      "cell_type": "code",
      "source": [
        "print(num)\n",
        "print(string)\n",
        "print(gg)\n",
        "print(yes) #printing the above variables"
      ],
      "metadata": {
        "colab": {
          "base_uri": "https://localhost:8080/"
        },
        "id": "Nhe9y90EdmS5",
        "outputId": "a596ecb7-7842-40be-ce6d-f46375f7e237"
      },
      "execution_count": null,
      "outputs": [
        {
          "output_type": "stream",
          "name": "stdout",
          "text": [
            "10\n",
            "Yash Sharma\n",
            "9.9\n",
            "True\n"
          ]
        }
      ]
    },
    {
      "cell_type": "code",
      "source": [
        "print(type(string))\n",
        "print(type(num))\n",
        "print(type(gg))\n",
        "print(type(yes)) #checking the datatype of the variables"
      ],
      "metadata": {
        "colab": {
          "base_uri": "https://localhost:8080/"
        },
        "id": "a3rKvRqbdo6y",
        "outputId": "19d1147c-1361-4ad4-f544-22cf65469443"
      },
      "execution_count": null,
      "outputs": [
        {
          "output_type": "stream",
          "name": "stdout",
          "text": [
            "<class 'str'>\n",
            "<class 'int'>\n",
            "<class 'float'>\n",
            "<class 'bool'>\n"
          ]
        }
      ]
    },
    {
      "cell_type": "code",
      "source": [
        "print(type(string), type(num), type(gg), type(yes)) #can also be written in a single line"
      ],
      "metadata": {
        "colab": {
          "base_uri": "https://localhost:8080/"
        },
        "id": "7wheJMBLjWRP",
        "outputId": "b0062510-95ab-494a-ac80-d0e8da5f3a55"
      },
      "execution_count": null,
      "outputs": [
        {
          "output_type": "stream",
          "name": "stdout",
          "text": [
            "<class 'str'> <class 'int'> <class 'float'> <class 'bool'>\n"
          ]
        }
      ]
    },
    {
      "cell_type": "code",
      "source": [
        "age = 19\n",
        "b = 10\n",
        "age + b"
      ],
      "metadata": {
        "colab": {
          "base_uri": "https://localhost:8080/"
        },
        "id": "qWmWsoa_1wDo",
        "outputId": "841ee501-4844-4413-d284-c1ff73c07ac7"
      },
      "execution_count": null,
      "outputs": [
        {
          "output_type": "execute_result",
          "data": {
            "text/plain": [
              "29"
            ]
          },
          "metadata": {},
          "execution_count": 6
        }
      ]
    },
    {
      "cell_type": "code",
      "source": [
        "import keyword\n",
        "print(keyword.kwlist)"
      ],
      "metadata": {
        "colab": {
          "base_uri": "https://localhost:8080/"
        },
        "id": "VI8bSGsKdoki",
        "outputId": "45451e7f-c941-4162-e4ab-6ec40fb04925"
      },
      "execution_count": null,
      "outputs": [
        {
          "output_type": "stream",
          "name": "stdout",
          "text": [
            "['False', 'None', 'True', 'and', 'as', 'assert', 'async', 'await', 'break', 'class', 'continue', 'def', 'del', 'elif', 'else', 'except', 'finally', 'for', 'from', 'global', 'if', 'import', 'in', 'is', 'lambda', 'nonlocal', 'not', 'or', 'pass', 'raise', 'return', 'try', 'while', 'with', 'yield']\n"
          ]
        }
      ]
    },
    {
      "cell_type": "markdown",
      "source": [
        "# Numbers"
      ],
      "metadata": {
        "id": "uK1U6jx331Qp"
      }
    },
    {
      "cell_type": "markdown",
      "source": [
        "Operators \n",
        "\n",
        "<  >  >=  <=  / *  **  // \n",
        "\n",
        "// - Quotient without decimal\n",
        "\n",
        "\n",
        "% - Remainder"
      ],
      "metadata": {
        "id": "9uSJUVHh36Gh"
      }
    },
    {
      "cell_type": "code",
      "source": [
        "q = age/5"
      ],
      "metadata": {
        "id": "EF0vpBeA27mR"
      },
      "execution_count": null,
      "outputs": []
    },
    {
      "cell_type": "code",
      "source": [
        "type(q)"
      ],
      "metadata": {
        "colab": {
          "base_uri": "https://localhost:8080/"
        },
        "id": "2uc6QOJY3Gsy",
        "outputId": "d7ab2aa8-ace2-4e1c-de6f-d02ea690ffcb"
      },
      "execution_count": null,
      "outputs": [
        {
          "output_type": "execute_result",
          "data": {
            "text/plain": [
              "float"
            ]
          },
          "metadata": {},
          "execution_count": 9
        }
      ]
    },
    {
      "cell_type": "code",
      "source": [
        "ageLess = age < q"
      ],
      "metadata": {
        "id": "hrHImDZf3cx1"
      },
      "execution_count": null,
      "outputs": []
    },
    {
      "cell_type": "code",
      "source": [
        "type(ageLess)"
      ],
      "metadata": {
        "colab": {
          "base_uri": "https://localhost:8080/"
        },
        "id": "vGCkOBTD3tYx",
        "outputId": "a29c17da-6b7f-47b5-d6fe-57d37285ccbe"
      },
      "execution_count": null,
      "outputs": [
        {
          "output_type": "execute_result",
          "data": {
            "text/plain": [
              "bool"
            ]
          },
          "metadata": {},
          "execution_count": 11
        }
      ]
    },
    {
      "cell_type": "code",
      "source": [
        "print(age * q)"
      ],
      "metadata": {
        "colab": {
          "base_uri": "https://localhost:8080/"
        },
        "id": "uEcm7ixa4Es9",
        "outputId": "9d060d82-3a3c-4a6a-c6eb-edd2bfa76cd1"
      },
      "execution_count": null,
      "outputs": [
        {
          "output_type": "stream",
          "name": "stdout",
          "text": [
            "72.2\n"
          ]
        }
      ]
    },
    {
      "cell_type": "code",
      "source": [
        "print(age / q)"
      ],
      "metadata": {
        "colab": {
          "base_uri": "https://localhost:8080/"
        },
        "id": "FDB-ZyxW4VWy",
        "outputId": "bee86e5f-84cc-44be-e025-0eb16cc98b2a"
      },
      "execution_count": null,
      "outputs": [
        {
          "output_type": "stream",
          "name": "stdout",
          "text": [
            "5.0\n"
          ]
        }
      ]
    },
    {
      "cell_type": "code",
      "source": [
        "print('Quotient is ', age // 5, 'Remainder is ', age%5, age / 3)"
      ],
      "metadata": {
        "colab": {
          "base_uri": "https://localhost:8080/"
        },
        "id": "Je5yJ-oKjmjU",
        "outputId": "11ab887f-da3d-41fe-aea1-c40f583d8cdd"
      },
      "execution_count": null,
      "outputs": [
        {
          "output_type": "stream",
          "name": "stdout",
          "text": [
            "Quotient is  3 Remainder is  4 6.333333333333333\n"
          ]
        }
      ]
    },
    {
      "cell_type": "code",
      "source": [
        "num1 = 100"
      ],
      "metadata": {
        "id": "-CG-ot-nn8Nm"
      },
      "execution_count": null,
      "outputs": []
    },
    {
      "cell_type": "code",
      "source": [
        "num2 = 4.4"
      ],
      "metadata": {
        "id": "Wl8rREecn8LY"
      },
      "execution_count": null,
      "outputs": []
    },
    {
      "cell_type": "code",
      "source": [
        "num3 = 5+6j"
      ],
      "metadata": {
        "id": "RjbU2e8bn8JY"
      },
      "execution_count": null,
      "outputs": []
    },
    {
      "cell_type": "code",
      "source": [
        "print(type(num1),type(num2),type(num3))"
      ],
      "metadata": {
        "colab": {
          "base_uri": "https://localhost:8080/"
        },
        "id": "AZsab0FCn_y8",
        "outputId": "c3f6e80e-b5a4-4c1f-cc34-5ea4c61dc884"
      },
      "execution_count": null,
      "outputs": [
        {
          "output_type": "stream",
          "name": "stdout",
          "text": [
            "<class 'int'> <class 'float'> <class 'complex'>\n"
          ]
        }
      ]
    },
    {
      "cell_type": "code",
      "source": [
        "print(num1,num2,num3)"
      ],
      "metadata": {
        "colab": {
          "base_uri": "https://localhost:8080/"
        },
        "id": "JzHsTymMoCIz",
        "outputId": "f0c87a01-182f-4ce2-b3cb-738b520fee85"
      },
      "execution_count": null,
      "outputs": [
        {
          "output_type": "stream",
          "name": "stdout",
          "text": [
            "100 4.4 (5+6j)\n"
          ]
        }
      ]
    },
    {
      "cell_type": "markdown",
      "source": [
        "#String\n",
        "\n",
        "- Sting is immutable\n",
        "- sting[start: end: step] similar to range\n",
        "- multiple lines - \"\"\" ''' with next line spacing"
      ],
      "metadata": {
        "id": "z52RcFVWO4C8"
      }
    },
    {
      "cell_type": "code",
      "source": [
        "string"
      ],
      "metadata": {
        "colab": {
          "base_uri": "https://localhost:8080/",
          "height": 35
        },
        "id": "yyI2EBUKO56u",
        "outputId": "d4b7ffb6-397a-4c12-e329-bff115fa6cee"
      },
      "execution_count": null,
      "outputs": [
        {
          "output_type": "execute_result",
          "data": {
            "text/plain": [
              "'Yash Sharma'"
            ],
            "application/vnd.google.colaboratory.intrinsic+json": {
              "type": "string"
            }
          },
          "metadata": {},
          "execution_count": 20
        }
      ]
    },
    {
      "cell_type": "code",
      "source": [
        "print(string[0]) #this will print the first character of the string"
      ],
      "metadata": {
        "colab": {
          "base_uri": "https://localhost:8080/"
        },
        "id": "6OtWfo7Vozry",
        "outputId": "40aac6b4-77fb-44bd-fd75-903d957dd87c"
      },
      "execution_count": null,
      "outputs": [
        {
          "output_type": "stream",
          "name": "stdout",
          "text": [
            "Y\n"
          ]
        }
      ]
    },
    {
      "cell_type": "markdown",
      "source": [
        "Slicing"
      ],
      "metadata": {
        "id": "AplIUiR5pLxW"
      }
    },
    {
      "cell_type": "code",
      "source": [
        "string[0:3]"
      ],
      "metadata": {
        "colab": {
          "base_uri": "https://localhost:8080/",
          "height": 35
        },
        "id": "_RAGchFspNQ7",
        "outputId": "5cc476b5-368e-447c-ee2f-54ab67ccf8e8"
      },
      "execution_count": null,
      "outputs": [
        {
          "output_type": "execute_result",
          "data": {
            "text/plain": [
              "'Yas'"
            ],
            "application/vnd.google.colaboratory.intrinsic+json": {
              "type": "string"
            }
          },
          "metadata": {},
          "execution_count": 22
        }
      ]
    },
    {
      "cell_type": "code",
      "source": [
        "string[0:]"
      ],
      "metadata": {
        "colab": {
          "base_uri": "https://localhost:8080/",
          "height": 35
        },
        "id": "MIvCJA8LpP59",
        "outputId": "5ce3b58e-3aa2-4923-db9d-9d842a9934fd"
      },
      "execution_count": null,
      "outputs": [
        {
          "output_type": "execute_result",
          "data": {
            "text/plain": [
              "'Yash Sharma'"
            ],
            "application/vnd.google.colaboratory.intrinsic+json": {
              "type": "string"
            }
          },
          "metadata": {},
          "execution_count": 23
        }
      ]
    },
    {
      "cell_type": "code",
      "source": [
        "string[1:]"
      ],
      "metadata": {
        "colab": {
          "base_uri": "https://localhost:8080/",
          "height": 35
        },
        "id": "ObIRoUDjpP4O",
        "outputId": "1876000b-3544-44fa-ee45-4f8c0a477b83"
      },
      "execution_count": null,
      "outputs": [
        {
          "output_type": "execute_result",
          "data": {
            "text/plain": [
              "'ash Sharma'"
            ],
            "application/vnd.google.colaboratory.intrinsic+json": {
              "type": "string"
            }
          },
          "metadata": {},
          "execution_count": 24
        }
      ]
    },
    {
      "cell_type": "code",
      "source": [
        "string[:3]"
      ],
      "metadata": {
        "colab": {
          "base_uri": "https://localhost:8080/",
          "height": 35
        },
        "id": "VKNj3ipzpP2Y",
        "outputId": "44b8b26c-74e7-4962-db29-946dfb3a4401"
      },
      "execution_count": null,
      "outputs": [
        {
          "output_type": "execute_result",
          "data": {
            "text/plain": [
              "'Yas'"
            ],
            "application/vnd.google.colaboratory.intrinsic+json": {
              "type": "string"
            }
          },
          "metadata": {},
          "execution_count": 25
        }
      ]
    },
    {
      "cell_type": "code",
      "source": [
        "string[:]"
      ],
      "metadata": {
        "colab": {
          "base_uri": "https://localhost:8080/",
          "height": 35
        },
        "id": "1pKVh8fSpP0S",
        "outputId": "660eb2bc-044a-493d-94fb-104f7e42624d"
      },
      "execution_count": null,
      "outputs": [
        {
          "output_type": "execute_result",
          "data": {
            "text/plain": [
              "'Yash Sharma'"
            ],
            "application/vnd.google.colaboratory.intrinsic+json": {
              "type": "string"
            }
          },
          "metadata": {},
          "execution_count": 26
        }
      ]
    },
    {
      "cell_type": "code",
      "source": [
        "string[0:4:2] #this will print the characters from 1st position to the 3rd position with a jump of 2 characters"
      ],
      "metadata": {
        "colab": {
          "base_uri": "https://localhost:8080/",
          "height": 35
        },
        "id": "9pTM-ScppPyM",
        "outputId": "86828fd9-813c-400e-a734-65e63c74770f"
      },
      "execution_count": null,
      "outputs": [
        {
          "output_type": "execute_result",
          "data": {
            "text/plain": [
              "'Ys'"
            ],
            "application/vnd.google.colaboratory.intrinsic+json": {
              "type": "string"
            }
          },
          "metadata": {},
          "execution_count": 27
        }
      ]
    },
    {
      "cell_type": "code",
      "source": [
        "string[::2]"
      ],
      "metadata": {
        "colab": {
          "base_uri": "https://localhost:8080/",
          "height": 35
        },
        "id": "AiZM80oupPwJ",
        "outputId": "a78bc505-91bc-463b-e90c-65b262cc60d5"
      },
      "execution_count": null,
      "outputs": [
        {
          "output_type": "execute_result",
          "data": {
            "text/plain": [
              "'Ys hra'"
            ],
            "application/vnd.google.colaboratory.intrinsic+json": {
              "type": "string"
            }
          },
          "metadata": {},
          "execution_count": 28
        }
      ]
    },
    {
      "cell_type": "code",
      "source": [
        "string[7:1:1]"
      ],
      "metadata": {
        "colab": {
          "base_uri": "https://localhost:8080/",
          "height": 35
        },
        "id": "Oxw7HE1DqKPL",
        "outputId": "311ebdc4-6b67-4d16-abbd-de3036eec55f"
      },
      "execution_count": null,
      "outputs": [
        {
          "output_type": "execute_result",
          "data": {
            "text/plain": [
              "''"
            ],
            "application/vnd.google.colaboratory.intrinsic+json": {
              "type": "string"
            }
          },
          "metadata": {},
          "execution_count": 29
        }
      ]
    },
    {
      "cell_type": "code",
      "source": [
        "string[-1] #this will print the last character from the string"
      ],
      "metadata": {
        "colab": {
          "base_uri": "https://localhost:8080/",
          "height": 35
        },
        "id": "6twGlRynqKNc",
        "outputId": "77c45950-c3d1-42a8-b370-f055d354a685"
      },
      "execution_count": null,
      "outputs": [
        {
          "output_type": "execute_result",
          "data": {
            "text/plain": [
              "'a'"
            ],
            "application/vnd.google.colaboratory.intrinsic+json": {
              "type": "string"
            }
          },
          "metadata": {},
          "execution_count": 30
        }
      ]
    },
    {
      "cell_type": "code",
      "source": [
        "string[-9:-6]"
      ],
      "metadata": {
        "colab": {
          "base_uri": "https://localhost:8080/",
          "height": 35
        },
        "id": "JhciHgYGqKLh",
        "outputId": "31063e55-9dbb-4ecf-c946-69a093653d65"
      },
      "execution_count": null,
      "outputs": [
        {
          "output_type": "execute_result",
          "data": {
            "text/plain": [
              "'sh '"
            ],
            "application/vnd.google.colaboratory.intrinsic+json": {
              "type": "string"
            }
          },
          "metadata": {},
          "execution_count": 31
        }
      ]
    },
    {
      "cell_type": "code",
      "source": [
        "string[::-1]"
      ],
      "metadata": {
        "id": "qpc7xB2pqKJi",
        "colab": {
          "base_uri": "https://localhost:8080/",
          "height": 35
        },
        "outputId": "64df287d-27f3-4a83-d2c9-175acb5fc312"
      },
      "execution_count": null,
      "outputs": [
        {
          "output_type": "execute_result",
          "data": {
            "text/plain": [
              "'amrahS hsaY'"
            ],
            "application/vnd.google.colaboratory.intrinsic+json": {
              "type": "string"
            }
          },
          "metadata": {},
          "execution_count": 34
        }
      ]
    },
    {
      "cell_type": "code",
      "source": [
        "string[8:5:-1] #this will print the characters from 7 to 5 as we have a jump of -1 (that is in reverse)"
      ],
      "metadata": {
        "colab": {
          "base_uri": "https://localhost:8080/",
          "height": 35
        },
        "id": "Cw-NON1gnRuT",
        "outputId": "288514d3-3af1-4148-f922-674735b5f932"
      },
      "execution_count": null,
      "outputs": [
        {
          "output_type": "execute_result",
          "data": {
            "text/plain": [
              "'rah'"
            ],
            "application/vnd.google.colaboratory.intrinsic+json": {
              "type": "string"
            }
          },
          "metadata": {},
          "execution_count": 35
        }
      ]
    },
    {
      "cell_type": "code",
      "source": [
        "string[:-4:-1]"
      ],
      "metadata": {
        "id": "1QiNKL1gqKFT",
        "colab": {
          "base_uri": "https://localhost:8080/",
          "height": 35
        },
        "outputId": "0f77539b-fd44-4b24-aa37-6f0b7bbb30a3"
      },
      "execution_count": null,
      "outputs": [
        {
          "output_type": "execute_result",
          "data": {
            "text/plain": [
              "'amr'"
            ],
            "application/vnd.google.colaboratory.intrinsic+json": {
              "type": "string"
            }
          },
          "metadata": {},
          "execution_count": 36
        }
      ]
    },
    {
      "cell_type": "code",
      "source": [
        "string[2:2:-1]"
      ],
      "metadata": {
        "colab": {
          "base_uri": "https://localhost:8080/",
          "height": 35
        },
        "id": "1TLFn2K1netU",
        "outputId": "61372295-fc38-4e50-f5b9-dc612992f012"
      },
      "execution_count": null,
      "outputs": [
        {
          "output_type": "execute_result",
          "data": {
            "text/plain": [
              "''"
            ],
            "application/vnd.google.colaboratory.intrinsic+json": {
              "type": "string"
            }
          },
          "metadata": {},
          "execution_count": 37
        }
      ]
    },
    {
      "cell_type": "code",
      "source": [
        "string.upper()"
      ],
      "metadata": {
        "colab": {
          "base_uri": "https://localhost:8080/",
          "height": 35
        },
        "id": "OtMvy4YgnjGi",
        "outputId": "67c01445-c499-41ec-8a02-5b8abdfbaf62"
      },
      "execution_count": null,
      "outputs": [
        {
          "output_type": "execute_result",
          "data": {
            "text/plain": [
              "'YASH SHARMA'"
            ],
            "application/vnd.google.colaboratory.intrinsic+json": {
              "type": "string"
            }
          },
          "metadata": {},
          "execution_count": 38
        }
      ]
    },
    {
      "cell_type": "code",
      "source": [
        "string.lower()"
      ],
      "metadata": {
        "colab": {
          "base_uri": "https://localhost:8080/",
          "height": 35
        },
        "id": "W1ZJVzhUnjEo",
        "outputId": "783c9132-cad7-47bd-e140-45fc223f9bd6"
      },
      "execution_count": null,
      "outputs": [
        {
          "output_type": "execute_result",
          "data": {
            "text/plain": [
              "'yash sharma'"
            ],
            "application/vnd.google.colaboratory.intrinsic+json": {
              "type": "string"
            }
          },
          "metadata": {},
          "execution_count": 39
        }
      ]
    },
    {
      "cell_type": "code",
      "source": [
        "name = 'abcdef\\tghij'\n",
        "print(name)"
      ],
      "metadata": {
        "colab": {
          "base_uri": "https://localhost:8080/"
        },
        "id": "SO_JJb57njCm",
        "outputId": "258f324a-de32-4cef-a1b5-2b475594d9c8"
      },
      "execution_count": null,
      "outputs": [
        {
          "output_type": "stream",
          "name": "stdout",
          "text": [
            "abcdef\tghij\n"
          ]
        }
      ]
    },
    {
      "cell_type": "code",
      "source": [
        "name = 'abcdef\\bghij'\n",
        "print(name)"
      ],
      "metadata": {
        "colab": {
          "base_uri": "https://localhost:8080/"
        },
        "id": "BCrVJVzanjAf",
        "outputId": "ad9bf761-1d73-40a1-f681-f0c6f07276c5"
      },
      "execution_count": null,
      "outputs": [
        {
          "output_type": "stream",
          "name": "stdout",
          "text": [
            "abcdef\bghij\n"
          ]
        }
      ]
    },
    {
      "cell_type": "markdown",
      "source": [
        "# Condition"
      ],
      "metadata": {
        "id": "tcSPhTXZqbbR"
      }
    },
    {
      "cell_type": "markdown",
      "source": [
        "If else condition"
      ],
      "metadata": {
        "id": "2OIeCj2Fqve3"
      }
    },
    {
      "cell_type": "code",
      "source": [
        "age = 11\n",
        "if age < 18:\n",
        "    print('teen')\n",
        "else:\n",
        "    print('adult')"
      ],
      "metadata": {
        "colab": {
          "base_uri": "https://localhost:8080/"
        },
        "id": "wu_8xrHRqwP6",
        "outputId": "90d1ce2a-f133-4260-c5b6-997b4ae86a51"
      },
      "execution_count": null,
      "outputs": [
        {
          "output_type": "stream",
          "name": "stdout",
          "text": [
            "teen\n"
          ]
        }
      ]
    },
    {
      "cell_type": "markdown",
      "source": [
        "Nested If else"
      ],
      "metadata": {
        "id": "ZWu6lpzDq6tX"
      }
    },
    {
      "cell_type": "markdown",
      "source": [
        "- weight < 40 underweight\n",
        "- weight >= 40 and weight <= 60 -- Fit\n",
        "- weight > 60 -- Overweight"
      ],
      "metadata": {
        "id": "yIOI873Iq7JA"
      }
    },
    {
      "cell_type": "code",
      "source": [
        "weight = 28\n",
        "\n",
        "if weight<40:\n",
        "    print('underweight')\n",
        "else:\n",
        "    if weight>60:\n",
        "      print('overweight')\n",
        "    else:\n",
        "      print('fit')"
      ],
      "metadata": {
        "colab": {
          "base_uri": "https://localhost:8080/"
        },
        "id": "WJDqw7D6qwOU",
        "outputId": "81136566-ca70-4115-cd9c-daf675c232a2"
      },
      "execution_count": null,
      "outputs": [
        {
          "output_type": "stream",
          "name": "stdout",
          "text": [
            "underweight\n"
          ]
        }
      ]
    },
    {
      "cell_type": "code",
      "source": [
        "weight = 78\n",
        "\n",
        "if weight<40:\n",
        "    print('underweight')\n",
        "else:\n",
        "    if weight>60:\n",
        "      print('overweight')\n",
        "    else:\n",
        "      print('fit')"
      ],
      "metadata": {
        "colab": {
          "base_uri": "https://localhost:8080/"
        },
        "id": "-DlOFo0PqwMc",
        "outputId": "bad392cd-7c38-4ed8-f1c0-97c872163086"
      },
      "execution_count": null,
      "outputs": [
        {
          "output_type": "stream",
          "name": "stdout",
          "text": [
            "overweight\n"
          ]
        }
      ]
    },
    {
      "cell_type": "markdown",
      "source": [
        "# Loops\n",
        "\n",
        "\n",
        "\n",
        "*   for\n",
        "*   while\n",
        "\n",
        "\n",
        "range(end)                  [0, end)\n",
        "\n",
        "range(start, end)           [start, end)\n",
        "\n",
        "range(start, end, step)\n",
        "\n",
        "continue skip current iteration\n",
        "\n",
        "break terminates loop"
      ],
      "metadata": {
        "id": "79cDvMLkpex7"
      }
    },
    {
      "cell_type": "code",
      "source": [
        "for i in range(2, 10, -2):\n",
        "    print(i)"
      ],
      "metadata": {
        "id": "aMmbqeRyptJH"
      },
      "execution_count": null,
      "outputs": []
    },
    {
      "cell_type": "markdown",
      "source": [
        "Skip printing multiples of 3"
      ],
      "metadata": {
        "id": "7-tH2wMbpyMf"
      }
    },
    {
      "cell_type": "code",
      "source": [
        "for i in range(2, 10):\n",
        "    if i % 3 == 0:\n",
        "        continue\n",
        "    \n",
        "    print(i)"
      ],
      "metadata": {
        "colab": {
          "base_uri": "https://localhost:8080/"
        },
        "id": "N2ptP64VptG5",
        "outputId": "37545bed-1c35-4463-d8af-1827976ec30f"
      },
      "execution_count": null,
      "outputs": [
        {
          "output_type": "stream",
          "name": "stdout",
          "text": [
            "2\n",
            "4\n",
            "5\n",
            "7\n",
            "8\n"
          ]
        }
      ]
    },
    {
      "cell_type": "markdown",
      "source": [
        "Terminate loop if 7 is encountered"
      ],
      "metadata": {
        "id": "nukyNAVTp6Qy"
      }
    },
    {
      "cell_type": "code",
      "source": [
        "for i in range(1,10):\n",
        "  if i==7:\n",
        "    break\n",
        "  print(i)\n",
        "print('outside')"
      ],
      "metadata": {
        "colab": {
          "base_uri": "https://localhost:8080/"
        },
        "id": "ZHzS2HWXptE1",
        "outputId": "17dc8c48-f3e7-42e0-b1d5-5f10819a3e43"
      },
      "execution_count": null,
      "outputs": [
        {
          "output_type": "stream",
          "name": "stdout",
          "text": [
            "1\n",
            "2\n",
            "3\n",
            "4\n",
            "5\n",
            "6\n",
            "outside\n"
          ]
        }
      ]
    },
    {
      "cell_type": "markdown",
      "source": [
        "doing the same with a while loop"
      ],
      "metadata": {
        "id": "lkmdb_7zql8v"
      }
    },
    {
      "cell_type": "code",
      "source": [
        "i = 1\n",
        "\n",
        "while i <= 6:\n",
        "    print(i)\n",
        "    i += 1\n",
        "\n",
        "print('outside loop', i)"
      ],
      "metadata": {
        "colab": {
          "base_uri": "https://localhost:8080/"
        },
        "id": "zmssu4osps-F",
        "outputId": "e9f65e4f-ef24-41ea-e706-a27656dc0efb"
      },
      "execution_count": null,
      "outputs": [
        {
          "output_type": "stream",
          "name": "stdout",
          "text": [
            "1\n",
            "2\n",
            "3\n",
            "4\n",
            "5\n",
            "6\n",
            "outside loop 7\n"
          ]
        }
      ]
    },
    {
      "cell_type": "markdown",
      "source": [
        "Operating on string"
      ],
      "metadata": {
        "id": "0EFYPjFOqVpg"
      }
    },
    {
      "cell_type": "code",
      "source": [
        "for d in name:\n",
        "  print(d)"
      ],
      "metadata": {
        "colab": {
          "base_uri": "https://localhost:8080/"
        },
        "id": "PXxS_V1FTNvY",
        "outputId": "7fdc6cbc-7c9f-413f-c07a-31f79b4a8397"
      },
      "execution_count": null,
      "outputs": [
        {
          "output_type": "stream",
          "name": "stdout",
          "text": [
            "a\n",
            "b\n",
            "c\n",
            "d\n",
            "e\n",
            "f\n",
            "\f\n",
            "g\n",
            "h\n",
            "i\n",
            "j\n"
          ]
        }
      ]
    },
    {
      "cell_type": "code",
      "source": [
        "for i in range(0, len(name)):\n",
        "  print(name[i])"
      ],
      "metadata": {
        "colab": {
          "base_uri": "https://localhost:8080/"
        },
        "id": "51gwBiLVUe8q",
        "outputId": "a82ffae7-3a21-4969-dc68-ea261e03adab"
      },
      "execution_count": null,
      "outputs": [
        {
          "output_type": "stream",
          "name": "stdout",
          "text": [
            "a\n",
            "b\n",
            "c\n",
            "d\n",
            "e\n",
            "f\n",
            "\f\n",
            "g\n",
            "h\n",
            "i\n",
            "j\n"
          ]
        }
      ]
    }
  ]
}